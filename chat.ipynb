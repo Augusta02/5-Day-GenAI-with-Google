{
 "cells": [
  {
   "cell_type": "code",
   "execution_count": 1,
   "metadata": {},
   "outputs": [],
   "source": [
    "# Install the required package\n",
    "# %pip install google-generativeai\n",
    "# %pip install -qU \"google-genai>=1.0.0\"\n",
    "\n",
    "# import google as genai\n",
    "# from flask import Flask, request, jsonify\n",
    "# import os\n",
    "# from dotenv import load_dotenv\n",
    "# load_dotenv()\n"
   ]
  },
  {
   "cell_type": "code",
   "execution_count": 2,
   "metadata": {},
   "outputs": [
    {
     "data": {
      "text/plain": [
       "True"
      ]
     },
     "execution_count": 2,
     "metadata": {},
     "output_type": "execute_result"
    }
   ],
   "source": [
    "from google import genai\n",
    "from flask import Flask, request, jsonify\n",
    "import os\n",
    "from dotenv import load_dotenv\n",
    "load_dotenv()"
   ]
  },
  {
   "cell_type": "code",
   "execution_count": 3,
   "metadata": {},
   "outputs": [],
   "source": [
    "client = genai.Client(api_key=os.getenv(\"GOOGLE_API_KEY\"))"
   ]
  },
  {
   "cell_type": "markdown",
   "metadata": {},
   "source": [
    "### Define the API\n",
    "To emulate a resturant's ordering system, define functions for managing the customer's order: adding, editing, clearing, confirming and fulfilling.\n",
    "\n",
    "These functions track the customer's order using the global variables order (the in-progress order) and placed_order (the confirmed order sent to the kitchen). Each of the order-editing functions updates the order, and once placed, order is copied to placed_order and cleared."
   ]
  },
  {
   "cell_type": "code",
   "execution_count": 4,
   "metadata": {},
   "outputs": [],
   "source": [
    "from typing import Optional\n",
    "from random import randint\n",
    "\n",
    "order = []\n",
    "placed_order = []\n",
    "\n",
    "def add_to_order(food: str, quantity: int, modifiers: Optional[list[str]] = None) -> None:\n",
    "    \"\"\"Add food to the order.\"\"\"\n",
    "    if modifiers is None:\n",
    "        modifiers = []\n",
    "    order.append({\"food\": food, \"quantity\": quantity, \"modifiers\": modifiers})\n",
    "    # return f\"Added {quantity} of {food} to your order.\"\n",
    "\n",
    "def remove_from_order(n: int) -> str:\n",
    "    \"\"\"Remove food from the order.\"\"\"\n",
    "    if 1 <= n <= len(order):\n",
    "        item= order.pop(n - 1)\n",
    "        return f\"Removed {item['quantity']} of {item['food']} from your order.\"\n",
    "    else:\n",
    "        return \"Invalid item\"\n",
    "\n",
    "def get_order() -> list[dict]:\n",
    "    \"\"\"Get the current order.\"\"\"\n",
    "    return order\n",
    "\n",
    "def clear_order() -> None:\n",
    "    \"\"\"Clear the order.\"\"\"\n",
    "    order.clear()\n",
    "\n",
    "\n",
    "def confirm_order() -> bool:\n",
    "    \"\"\"Asks the customer if the order is correct.\n",
    "    \n",
    "    Returns:\n",
    "        The user's confirmation.\"\"\"\n",
    "    print(f\"Your order:\")\n",
    "    if not order:\n",
    "        print(\"No items in the order.\")\n",
    "        return False\n",
    "    \n",
    "    # for quantity, food, modifiers in order.values:\n",
    "    #     print(f\"{quantity} of {food}\")\n",
    "    #     if modifiers:\n",
    "    #         print(f'   - {\", \".join(modifiers)}')\n",
    "\n",
    "    for i, item in enumerate(order, start=1):\n",
    "        food = item[\"food\"]\n",
    "        quantity = item[\"quantity\"]\n",
    "        modifiers = \", \".join(item[\"modifiers\"]) if item[\"modifiers\"] else \"No modifiers\"\n",
    "        print(f\" {quantity} x {food} ({modifiers})\")\n",
    "\n",
    "    return input('Is this correct? (yes/no): ')\n",
    "        # return response == \"yes\"\n",
    "    \n",
    "def place_order() -> Optional[int]:\n",
    "    \"\"\"Place the order only if confirmed\n",
    "    \n",
    "    Returns:\n",
    "        Estimated preparation time if confirmed, None otherwise\"\"\"\n",
    "    if confirm_order():\n",
    "        placed_order[:] = order.copy()\n",
    "        clear_order()\n",
    "        return randint(1, 10)\n",
    "    else:\n",
    "        print(\"Order not placed.\")\n",
    "        return None\n",
    "    \n",
    "\n",
    "\n",
    "\n",
    "    # return randint(1, 10)\n"
   ]
  },
  {
   "cell_type": "code",
   "execution_count": 5,
   "metadata": {},
   "outputs": [
    {
     "name": "stdout",
     "output_type": "stream",
     "text": [
      "Your order:\n",
      " 2 x Vegetables (No modifiers)\n"
     ]
    },
    {
     "data": {
      "text/plain": [
       "'yes'"
      ]
     },
     "execution_count": 5,
     "metadata": {},
     "output_type": "execute_result"
    }
   ],
   "source": [
    "# Test it out \n",
    "clear_order()\n",
    "add_to_order('Pizza', 3)\n",
    "add_to_order(\"Vegetables\", 2)\n",
    "# remove_from_order(1)\n",
    "remove_from_order(1)\n",
    "confirm_order()\n",
    "\n",
    "\n"
   ]
  },
  {
   "cell_type": "markdown",
   "metadata": {},
   "source": [
    "### Define Prompt"
   ]
  },
  {
   "cell_type": "code",
   "execution_count": 6,
   "metadata": {},
   "outputs": [],
   "source": [
    "BISTRO_BOT_PROMPT = \"\"\"\\You are a food order taking system and you are restricted to talk only about foods on the MENU. Do not talk about anything but ordering MENU foods for the customer, ever.\n",
    "Your goal is to do place_order after understanding the menu items and any modifiers the customer wants.\n",
    "Add items to the customer's order with add_to_order, remove specific items with remove_item, and reset the order with clear_order.\n",
    "To see the contents of the order so far, call get_order (by default this is shown to you, not the user)\n",
    "Always confirm_order with the user (double-check) before calling place_order. Calling confirm_order will display the order items to the user and returns their response to seeing the list. Their response may contain modifications.\n",
    "Always verify and respond with food and modifier names from the MENU before adding them to the order.\n",
    "If you are unsure a food or modifier matches those on the MENU, ask a question to clarify or redirect.\n",
    "You only have the modifiers listed on the menu below: Rice options, Spaghetti, Chicken, Fries, special requests.\n",
    "Once the customer has finished ordering items, confirm_order and then place_order.\n",
    "\n",
    "Hours: Tues, Wed, Thurs, 10am to 2pm\n",
    "Prices: All drinks are free.\n",
    "\n",
    "MENU:\n",
    "Rice options:\n",
    "Jollof Rice\n",
    "Native Rice\n",
    "Veggies Stir Fry\n",
    "Thai Jolly Shrimp Rice\n",
    "Suya Fried Rice\n",
    "\n",
    "\n",
    "Spaghetti:\n",
    "Stir Fry Fusilli\n",
    "Stir Fry Spaghetti\n",
    "Native-Style Spaghetti\n",
    "Misky Sauce Penny\n",
    "Misky Sauce Fusilli\n",
    "Smokey Jollof Penny\n",
    "\n",
    "Protein:\n",
    "Turkey Wings\n",
    "Chicken Wings (6 pieces)\n",
    "Chicken Wings (15 pieces)\n",
    "Sauteed Chicken\n",
    "Sauteed Prawns\n",
    "Bioled Eggs\n",
    "Sauteed Veggies\n",
    "\n",
    "Fries:\n",
    "Sweet Potato Fries\n",
    "Yam Fries\n",
    "French Fries\n",
    "\n",
    "\n",
    "\"\"\""
   ]
  },
  {
   "cell_type": "markdown",
   "metadata": {},
   "source": [
    "### Set Up Model"
   ]
  },
  {
   "cell_type": "code",
   "execution_count": 7,
   "metadata": {},
   "outputs": [],
   "source": [
    "# %pip install google-api-core"
   ]
  },
  {
   "cell_type": "code",
   "execution_count": 8,
   "metadata": {},
   "outputs": [],
   "source": [
    "# Install the required package\n",
    "# %pip install google-api-core\n",
    "\n",
    "from google.genai import types\n",
    "from google.api_core import retry\n",
    "\n",
    "ordering_system = [\n",
    "    add_to_order,\n",
    "    get_order, \n",
    "    remove_from_order,\n",
    "    clear_order,\n",
    "    confirm_order,\n",
    "    place_order,\n",
    "]\n",
    "model_name = \"gemini-2.0-flash\"\n",
    "\n",
    "chat = client.chats.create(\n",
    "    model= model_name,\n",
    "    config=types.GenerateContentConfig(\n",
    "        tools=ordering_system,\n",
    "        system_instruction=BISTRO_BOT_PROMPT,\n",
    "    ),\n",
    ")\n",
    "placed_order=[]\n",
    "order=[]"
   ]
  },
  {
   "cell_type": "code",
   "execution_count": 9,
   "metadata": {},
   "outputs": [
    {
     "name": "stdout",
     "output_type": "stream",
     "text": [
      "Welcome to the Bistro Bot! How can I help you today?\n"
     ]
    },
    {
     "data": {
      "text/markdown": [
       "Okay, I have added one order of Native Rice to your order.\n"
      ],
      "text/plain": [
       "<IPython.core.display.Markdown object>"
      ]
     },
     "metadata": {},
     "output_type": "display_data"
    },
    {
     "data": {
      "text/markdown": [
       "Ok, I have added one Yam Fries to your order. Anything else?\n"
      ],
      "text/plain": [
       "<IPython.core.display.Markdown object>"
      ]
     },
     "metadata": {},
     "output_type": "display_data"
    },
    {
     "data": {
      "text/markdown": [
       "I am sorry, I do not have yam porridge. Would you like to order anything else from the menu?\n"
      ],
      "text/plain": [
       "<IPython.core.display.Markdown object>"
      ]
     },
     "metadata": {},
     "output_type": "display_data"
    },
    {
     "name": "stdout",
     "output_type": "stream",
     "text": [
      "Your order:\n",
      " 1 x Native Rice (No modifiers)\n",
      " 1 x Yam Fries (No modifiers)\n",
      "Your order:\n",
      " 1 x Native Rice (No modifiers)\n",
      " 1 x Yam Fries (No modifiers)\n"
     ]
    },
    {
     "data": {
      "text/markdown": [
       "Okay, your order has been placed and will be ready in 5 minutes.\n"
      ],
      "text/plain": [
       "<IPython.core.display.Markdown object>"
      ]
     },
     "metadata": {},
     "output_type": "display_data"
    },
    {
     "name": "stdout",
     "output_type": "stream",
     "text": [
      "\n",
      "\n",
      "\n",
      "[bistro bot] Your order has been placed!\n",
      "\n",
      "Your order:\n",
      "  [{'food': 'Native Rice', 'quantity': 1, 'modifiers': []}, {'food': 'Yam Fries', 'quantity': 1, 'modifiers': []}]\n",
      "\n",
      "Thank you for ordering with us!\n"
     ]
    }
   ],
   "source": [
    "from IPython.display import display, Markdown\n",
    "\n",
    "print(\"Welcome to the Bistro Bot! How can I help you today?\")\n",
    "while not placed_order:\n",
    "    response = chat.send_message(input(\"> \"))\n",
    "    display(Markdown(response.text))\n",
    "\n",
    "print(\"\\n\\n\")\n",
    "print(\"[bistro bot] Your order has been placed!\")\n",
    "print()\n",
    "print(\"Your order:\")\n",
    "print(f\"  {placed_order}\\n\")\n",
    "print(\"Thank you for ordering with us!\")"
   ]
  }
 ],
 "metadata": {
  "kernelspec": {
   "display_name": "Python 3",
   "language": "python",
   "name": "python3"
  },
  "language_info": {
   "codemirror_mode": {
    "name": "ipython",
    "version": 3
   },
   "file_extension": ".py",
   "mimetype": "text/x-python",
   "name": "python",
   "nbconvert_exporter": "python",
   "pygments_lexer": "ipython3",
   "version": "3.10.5"
  }
 },
 "nbformat": 4,
 "nbformat_minor": 2
}
